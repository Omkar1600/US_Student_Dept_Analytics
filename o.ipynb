{
 "cells": [
  {
   "cell_type": "code",
   "execution_count": 1,
   "metadata": {},
   "outputs": [],
   "source": [
    "import pandas as pd"
   ]
  },
  {
   "cell_type": "code",
   "execution_count": 2,
   "metadata": {},
   "outputs": [],
   "source": [
    "df1=pd.read_csv('Data_2015.csv')\n",
    "df2=pd.read_csv('Data_2016.csv')\n",
    "df3=pd.read_csv('Data_2017.csv')\n",
    "df4=pd.read_csv('Data_2018.csv')"
   ]
  },
  {
   "cell_type": "code",
   "execution_count": 3,
   "metadata": {},
   "outputs": [
    {
     "name": "stdout",
     "output_type": "stream",
     "text": [
      "<class 'pandas.core.frame.DataFrame'>\n",
      "RangeIndex: 5524 entries, 0 to 5523\n",
      "Data columns (total 8 columns):\n",
      " #   Column                        Non-Null Count  Dtype \n",
      "---  ------                        --------------  ----- \n",
      " 0   OPE_ID                        5524 non-null   int64 \n",
      " 1   Institution_Name              5524 non-null   object\n",
      " 2   Institution_City              5524 non-null   object\n",
      " 3   Institution_State             5524 non-null   object\n",
      " 4   Institution Type And Control  5524 non-null   object\n",
      " 5   Total_Awards                  5524 non-null   int64 \n",
      " 6   year                          5524 non-null   int64 \n",
      " 7   Total_Recipients              5524 non-null   int64 \n",
      "dtypes: int64(4), object(4)\n",
      "memory usage: 345.4+ KB\n"
     ]
    }
   ],
   "source": [
    "df1.info()"
   ]
  },
  {
   "cell_type": "code",
   "execution_count": 4,
   "metadata": {},
   "outputs": [
    {
     "name": "stdout",
     "output_type": "stream",
     "text": [
      "<class 'pandas.core.frame.DataFrame'>\n",
      "RangeIndex: 5466 entries, 0 to 5465\n",
      "Data columns (total 8 columns):\n",
      " #   Column                        Non-Null Count  Dtype \n",
      "---  ------                        --------------  ----- \n",
      " 0   OPE ID                        5466 non-null   int64 \n",
      " 1   Institution Name              5466 non-null   object\n",
      " 2   Institution City              5466 non-null   object\n",
      " 3   Institution State             5466 non-null   object\n",
      " 4   Institution Type And Control  5466 non-null   object\n",
      " 5   Total Awards                  5466 non-null   int64 \n",
      " 6   year                          5466 non-null   int64 \n",
      " 7   Total Recipients              5466 non-null   int64 \n",
      "dtypes: int64(4), object(4)\n",
      "memory usage: 341.8+ KB\n"
     ]
    }
   ],
   "source": [
    "df2.info()"
   ]
  },
  {
   "cell_type": "code",
   "execution_count": 13,
   "metadata": {},
   "outputs": [],
   "source": [
    "df_final= pd.concat([df4,df3], ignore_index=True, axis=0)"
   ]
  },
  {
   "cell_type": "code",
   "execution_count": 21,
   "metadata": {},
   "outputs": [],
   "source": [
    "df_final.to_csv('Data_17-18.csv',index=False)"
   ]
  },
  {
   "cell_type": "code",
   "execution_count": 19,
   "metadata": {},
   "outputs": [
    {
     "name": "stdout",
     "output_type": "stream",
     "text": [
      "<class 'pandas.core.frame.DataFrame'>\n",
      "Int64Index: 16008 entries, 0 to 5465\n",
      "Data columns (total 15 columns):\n",
      " #   Column                        Non-Null Count  Dtype  \n",
      "---  ------                        --------------  -----  \n",
      " 0   OPE_ID                        10542 non-null  float64\n",
      " 1   INSTITUTION NAME              10542 non-null  object \n",
      " 2   INSTITUTION CITY              10542 non-null  object \n",
      " 3   INSTITUTION STATE             10542 non-null  object \n",
      " 4   INSTITUTION TYPE AND CONTROL  10542 non-null  object \n",
      " 5    TOTAL AWARDS                 10542 non-null  float64\n",
      " 6   year                          16008 non-null  int64  \n",
      " 7    TOTAL RECIPIENTS             10542 non-null  float64\n",
      " 8   OPE ID                        5466 non-null   float64\n",
      " 9   Institution Name              5466 non-null   object \n",
      " 10  Institution City              5466 non-null   object \n",
      " 11  Institution State             5466 non-null   object \n",
      " 12  Institution Type And Control  5466 non-null   object \n",
      " 13  Total Awards                  5466 non-null   float64\n",
      " 14  Total Recipients              5466 non-null   float64\n",
      "dtypes: float64(6), int64(1), object(8)\n",
      "memory usage: 2.0+ MB\n"
     ]
    }
   ],
   "source": [
    "df_o.info()"
   ]
  },
  {
   "cell_type": "code",
   "execution_count": 14,
   "metadata": {},
   "outputs": [],
   "source": [
    "df_final.to_csv('Data_15-18.csv',index=False)"
   ]
  },
  {
   "cell_type": "code",
   "execution_count": 4,
   "metadata": {},
   "outputs": [],
   "source": [
    "df=pd.read_excel('pellinst1718.xlsx')\n",
    "df.to_csv('Data_2018.csv',index=False)"
   ]
  },
  {
   "cell_type": "code",
   "execution_count": null,
   "metadata": {},
   "outputs": [],
   "source": []
  }
 ],
 "metadata": {
  "kernelspec": {
   "display_name": "Python 3",
   "language": "python",
   "name": "python3"
  },
  "language_info": {
   "codemirror_mode": {
    "name": "ipython",
    "version": 3
   },
   "file_extension": ".py",
   "mimetype": "text/x-python",
   "name": "python",
   "nbconvert_exporter": "python",
   "pygments_lexer": "ipython3",
   "version": "3.10.2"
  },
  "orig_nbformat": 4
 },
 "nbformat": 4,
 "nbformat_minor": 2
}
