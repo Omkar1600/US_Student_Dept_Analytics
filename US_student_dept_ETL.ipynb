{
 "cells": [
  {
   "cell_type": "code",
   "execution_count": 1,
   "metadata": {},
   "outputs": [],
   "source": [
    "import mysql.connector\n",
    "import pandas as pd\n",
    "from mysql.connector import Error"
   ]
  },
  {
   "cell_type": "code",
   "execution_count": 2,
   "metadata": {},
   "outputs": [],
   "source": [
    "df=pd.read_csv('Data_17-18f.csv')"
   ]
  },
  {
   "cell_type": "code",
   "execution_count": 3,
   "metadata": {},
   "outputs": [
    {
     "data": {
      "text/plain": [
       "OPE_ID                          0\n",
       "INSTITUTION NAME                0\n",
       "INSTITUTION CITY                0\n",
       "INSTITUTION STATE               0\n",
       "INSTITUTION TYPE AND CONTROL    0\n",
       " TOTAL AWARDS                   0\n",
       "year                            0\n",
       " TOTAL RECIPIENTS               0\n",
       "dtype: int64"
      ]
     },
     "execution_count": 3,
     "metadata": {},
     "output_type": "execute_result"
    }
   ],
   "source": [
    "df.isna().sum()"
   ]
  },
  {
   "cell_type": "code",
   "execution_count": 5,
   "metadata": {},
   "outputs": [],
   "source": [
    "cnx = mysql.connector.connect(user='root', password='Omkar@1600',\n",
    "                              host='127.0.0.1'\n",
    "                              )\n",
    "cur= cnx.cursor()\n",
    "cur.execute(\"Create Database US_Student_Dept_17_18\")\n",
    "cnx.close()"
   ]
  },
  {
   "cell_type": "code",
   "execution_count": 19,
   "metadata": {},
   "outputs": [
    {
     "name": "stdout",
     "output_type": "stream",
     "text": [
      "MySQL Database connection successful\n"
     ]
    }
   ],
   "source": [
    "def create_db_connection(u_name,password, db_name):\n",
    "    connection = None\n",
    "    try:\n",
    "        connection = mysql.connector.connect(\n",
    "            user=u_name,\n",
    "            passwd=password,\n",
    "            database=db_name\n",
    "        )\n",
    "        print(\"MySQL Database connection successful\")\n",
    "    except Error as err:\n",
    "        print(f\"Error: '{err}'\")\n",
    "\n",
    "    return connection\n",
    "\n",
    "cnx=create_db_connection('root','Omkar@1600','us_student_dept_17_18')"
   ]
  },
  {
   "cell_type": "code",
   "execution_count": 7,
   "metadata": {},
   "outputs": [],
   "source": [
    "def execute_query(connection, query):\n",
    "    cursor = connection.cursor()\n",
    "    try:\n",
    "        cursor.execute(query)\n",
    "        connection.commit()\n",
    "        print(\"Query successful\")\n",
    "    except Error as err:\n",
    "        print(f\"Error: '{err}'\")"
   ]
  },
  {
   "cell_type": "code",
   "execution_count": 8,
   "metadata": {},
   "outputs": [
    {
     "name": "stdout",
     "output_type": "stream",
     "text": [
      "<class 'pandas.core.frame.DataFrame'>\n",
      "RangeIndex: 10542 entries, 0 to 10541\n",
      "Data columns (total 8 columns):\n",
      " #   Column                        Non-Null Count  Dtype \n",
      "---  ------                        --------------  ----- \n",
      " 0   OPE_ID                        10542 non-null  int64 \n",
      " 1   INSTITUTION NAME              10542 non-null  object\n",
      " 2   INSTITUTION CITY              10542 non-null  object\n",
      " 3   INSTITUTION STATE             10542 non-null  object\n",
      " 4   INSTITUTION TYPE AND CONTROL  10542 non-null  object\n",
      " 5    TOTAL AWARDS                 10542 non-null  int64 \n",
      " 6   year                          10542 non-null  int64 \n",
      " 7    TOTAL RECIPIENTS             10542 non-null  int64 \n",
      "dtypes: int64(4), object(4)\n",
      "memory usage: 659.0+ KB\n"
     ]
    }
   ],
   "source": [
    "df.info()"
   ]
  },
  {
   "cell_type": "code",
   "execution_count": 20,
   "metadata": {},
   "outputs": [],
   "source": [
    "Create_table=''' CREATE TABLE DATA_17_18(\n",
    "OPE_ID INT,\n",
    "INSTITUTION_NAME VARCHAR(40),\n",
    "INSTITUTION_CITY VARCHAR(30),\n",
    "INSTITUTION_STATE VARCHAR(30),\n",
    "INSTITUTION_TYPE  VARCHAR(20),\n",
    "TOTAL_AWARDS INT,\n",
    "year INT,\n",
    "TOTAL_RECIPIENTS INT \n",
    ")'''"
   ]
  },
  {
   "cell_type": "code",
   "execution_count": 21,
   "metadata": {},
   "outputs": [
    {
     "name": "stdout",
     "output_type": "stream",
     "text": [
      "Query successful\n"
     ]
    }
   ],
   "source": [
    "execute_query(cnx,Create_table)"
   ]
  },
  {
   "cell_type": "code",
   "execution_count": 22,
   "metadata": {},
   "outputs": [],
   "source": [
    "Insert_Query=''' INSERT INTO data_17_18(OPE_ID,INSTITUTION_NAME,INSTITUTION_CITY,INSTITUTION_STATE,INSTITUTION_TYPE,TOTAL_AWARDS,year,TOTAL_RECIPIENTS )\n",
    "VALUES(%s,%s,%s,%s,%s,%s,%s,%s)'''"
   ]
  },
  {
   "cell_type": "code",
   "execution_count": 23,
   "metadata": {},
   "outputs": [],
   "source": [
    "conec=cnx.cursor()\n",
    "for i,row in df.iterrows():\n",
    "    conec.execute(Insert_Query,list(row))\n",
    "\n",
    "cnx.commit()\n",
    "    "
   ]
  },
  {
   "cell_type": "code",
   "execution_count": 18,
   "metadata": {},
   "outputs": [],
   "source": [
    "cnx.close()"
   ]
  },
  {
   "cell_type": "code",
   "execution_count": null,
   "metadata": {},
   "outputs": [],
   "source": []
  }
 ],
 "metadata": {
  "kernelspec": {
   "display_name": "Python 3",
   "language": "python",
   "name": "python3"
  },
  "language_info": {
   "codemirror_mode": {
    "name": "ipython",
    "version": 3
   },
   "file_extension": ".py",
   "mimetype": "text/x-python",
   "name": "python",
   "nbconvert_exporter": "python",
   "pygments_lexer": "ipython3",
   "version": "3.10.2"
  },
  "orig_nbformat": 4
 },
 "nbformat": 4,
 "nbformat_minor": 2
}
